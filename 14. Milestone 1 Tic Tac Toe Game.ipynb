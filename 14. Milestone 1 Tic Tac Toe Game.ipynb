{
 "cells": [
  {
   "cell_type": "markdown",
   "metadata": {},
   "source": [
    "# Milestone 1: Tic Tac Toe Game! 3x3\n",
    "Created by Sri Ratna Wulan"
   ]
  },
  {
   "cell_type": "code",
   "execution_count": 1,
   "metadata": {
    "collapsed": true
   },
   "outputs": [],
   "source": [
    "def introduction():\n",
    "    '''\n",
    "    This is for introduction of the game. \n",
    "    '''\n",
    "    print '########## Welcome to my Tic Tac Toe game! #############'\n",
    "    print 'You need a partner to play the game.'\n",
    "    print 'The rule is simple, you should not make your partner make \\na line: horizontal, vertical, or diagonal.'\n",
    "    print 'Choose 1-9 to play.'"
   ]
  },
  {
   "cell_type": "code",
   "execution_count": 2,
   "metadata": {
    "collapsed": true
   },
   "outputs": [],
   "source": [
    "def board(d):    \n",
    "    '''\n",
    "    print the board. \n",
    "    '''\n",
    "    \n",
    "    print '-------------'\n",
    "    print '| {} | {} | {} |'.format(d['1'], d['2'], d['3'])\n",
    "    print '-------------'\n",
    "    print '| {} | {} | {} |'.format(d['4'], d['5'], d['6'])\n",
    "    print '-------------'\n",
    "    print '| {} | {} | {} |'.format(d['7'], d['8'], d['9'])\n",
    "    print '-------------'"
   ]
  },
  {
   "cell_type": "code",
   "execution_count": 3,
   "metadata": {
    "collapsed": true
   },
   "outputs": [],
   "source": [
    "def choose_icon():\n",
    "    \n",
    "    choose = raw_input('Player 1 = \"o\"\\nPlayer 2 = \"x\".\\nPress K to agree or R to reverse: ')\n",
    "    while (choose.lower() not in ['k','r']):\n",
    "        choose = raw_input('The input is not right.\\nPress \"K\" to agree with default position or press \"R\" to reverse: ')\n",
    "    \n",
    "    if choose.lower() == 'r':\n",
    "        icon_player_1 = 'x'\n",
    "        icon_player_2 = 'o'  \n",
    "    else:\n",
    "        icon_player_1 = 'o'\n",
    "        icon_player_2 = 'x'  \n",
    "    \n",
    "    return (icon_player_1, icon_player_2)"
   ]
  },
  {
   "cell_type": "code",
   "execution_count": 4,
   "metadata": {},
   "outputs": [],
   "source": [
    "def check_condition(d, isi):\n",
    "    if isi in ['1', '2', '3','4','5','6','7','8','9']:\n",
    "        if d[isi] not in ['o', 'x']:\n",
    "            return True\n",
    "    return False"
   ]
  },
  {
   "cell_type": "code",
   "execution_count": 5,
   "metadata": {
    "collapsed": true
   },
   "outputs": [],
   "source": [
    "def check_game(d, icon):\n",
    "    if d['1'] == icon and d['2'] == icon and d['3'] == icon:\n",
    "        return True\n",
    "    elif d['4'] == icon and d['5'] == icon and d['6'] == icon:\n",
    "        return True\n",
    "    elif d['7'] == icon and d['8'] == icon and d['9'] == icon:\n",
    "        return True\n",
    "    elif d['1'] == icon and d['4'] == icon and d['7'] == icon:\n",
    "        return True\n",
    "    elif d['2'] == icon and d['5'] == icon and d['8'] == icon:\n",
    "        return True\n",
    "    elif d['3'] == icon and d['6'] == icon and d['9'] == icon:\n",
    "        return True\n",
    "    elif d['1'] == icon and d['5'] == icon and d['9'] == icon:\n",
    "        return True\n",
    "    elif d['3'] == icon and d['5'] == icon and d['7'] == icon:\n",
    "        return True\n",
    "    else:\n",
    "        return False\n"
   ]
  },
  {
   "cell_type": "code",
   "execution_count": 6,
   "metadata": {},
   "outputs": [
    {
     "name": "stdout",
     "output_type": "stream",
     "text": [
      "########## Welcome to my Tic Tac Toe game! #############\n",
      "You need a partner to play the game.\n",
      "The rule is simple, you should not make your partner make \n",
      "a line: horizontal, vertical, or diagonal.\n",
      "Choose 1-9 to play.\n",
      "Please press \"Y\" to play the game. To quit, press \"Q\":\n",
      "y\n",
      "Player 1 = \"o\"\n",
      "Player 2 = \"x\".\n",
      "Press K to agree or R to reverse: 1\n",
      "The input is not right.\n",
      "Press \"K\" to agree with default position or press \"R\" to reverse: k\n",
      "-------------\n",
      "| 1 | 2 | 3 |\n",
      "-------------\n",
      "| 4 | 5 | 6 |\n",
      "-------------\n",
      "| 7 | 8 | 9 |\n",
      "-------------\n",
      "Player 1: 1\n",
      "-------------\n",
      "| o | 2 | 3 |\n",
      "-------------\n",
      "| 4 | 5 | 6 |\n",
      "-------------\n",
      "| 7 | 8 | 9 |\n",
      "-------------\n",
      "Player 2: 1\n",
      "Press the right input. Player 2: 2\n",
      "-------------\n",
      "| o | x | 3 |\n",
      "-------------\n",
      "| 4 | 5 | 6 |\n",
      "-------------\n",
      "| 7 | 8 | 9 |\n",
      "-------------\n",
      "Player 1: 5\n",
      "-------------\n",
      "| o | x | 3 |\n",
      "-------------\n",
      "| 4 | o | 6 |\n",
      "-------------\n",
      "| 7 | 8 | 9 |\n",
      "-------------\n",
      "Player 2: 3\n",
      "-------------\n",
      "| o | x | x |\n",
      "-------------\n",
      "| 4 | o | 6 |\n",
      "-------------\n",
      "| 7 | 8 | 9 |\n",
      "-------------\n",
      "Player 1: 5\n",
      "Press the right input. Player 1: 9\n",
      "-------------\n",
      "| o | x | x |\n",
      "-------------\n",
      "| 4 | o | 6 |\n",
      "-------------\n",
      "| 7 | 8 | o |\n",
      "-------------\n",
      "6\n",
      "Congrats Player 1, you win!\n",
      "Please press \"Y\" to play the game again. To quit, press \"Q\":\n",
      "q\n",
      "Bye bye!\n"
     ]
    }
   ],
   "source": [
    "# main program\n",
    "introduction()\n",
    "play = raw_input('Please press \"Y\" to play the game. To quit, press \"Q\":\\n')\n",
    "while (play.lower() not in ['y', 'q']):\n",
    "    play = raw_input('Press either \"Y\" or \"Q\": ')\n",
    "\n",
    "while (play.lower() == 'y'):   \n",
    "    icon_player_1, icon_player_2 = choose_icon()\n",
    "    d = {'1':1, '2':2, '3':3, '4':4, '5':5, '6':6, '7':7, '8':8, '9':9}\n",
    "    i = 1\n",
    "    icon = icon_player_1\n",
    "    \n",
    "    while i <= 9 and check_game(d, icon) == False:\n",
    "        board(d)\n",
    "        \n",
    "        if i%2 == 0:\n",
    "            isi = raw_input('Player 2: ')            \n",
    "            while check_condition(d, isi) == False:\n",
    "                isi = raw_input('Press the right input. Player 2: ')\n",
    "            \n",
    "            d[isi] = icon_player_2\n",
    "            icon = icon_player_2\n",
    "        else:\n",
    "            isi = raw_input('Player 1: ')\n",
    "            while check_condition(d, isi) == False:\n",
    "                isi = raw_input('Press the right input. Player 1: ')\n",
    "            \n",
    "            d[isi] = icon_player_1\n",
    "            icon = icon_player_1\n",
    "        i += 1\n",
    "    \n",
    "    board(d)\n",
    "    print i\n",
    "    if i == 10:\n",
    "        print 'Draw!'\n",
    "    else:\n",
    "        if icon == icon_player_1:\n",
    "            print 'Congrats Player 1, you win!'\n",
    "        else:\n",
    "            print 'Congrats Player 2, you win!'\n",
    "            \n",
    "    play = raw_input('Please press \"Y\" to play the game again. To quit, press \"Q\":\\n')\n",
    "    \n",
    "    while (play.lower() not in ['y', 'q']):\n",
    "        play = raw_input('Press either \"Y\" or \"Q\": ')\n",
    "else:\n",
    "    print 'Bye bye!'\n",
    "    \n"
   ]
  }
 ],
 "metadata": {
  "kernelspec": {
   "display_name": "Python 2",
   "language": "python",
   "name": "python2"
  },
  "language_info": {
   "codemirror_mode": {
    "name": "ipython",
    "version": 2
   },
   "file_extension": ".py",
   "mimetype": "text/x-python",
   "name": "python",
   "nbconvert_exporter": "python",
   "pygments_lexer": "ipython2",
   "version": "2.7.13"
  }
 },
 "nbformat": 4,
 "nbformat_minor": 2
}
